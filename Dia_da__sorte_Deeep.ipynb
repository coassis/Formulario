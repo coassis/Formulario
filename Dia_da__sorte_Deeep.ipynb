{
  "nbformat": 4,
  "nbformat_minor": 0,
  "metadata": {
    "colab": {
      "provenance": [],
      "authorship_tag": "ABX9TyOe8tNmn0jeVgeWArMXEmDD",
      "include_colab_link": true
    },
    "kernelspec": {
      "name": "python3",
      "display_name": "Python 3"
    },
    "language_info": {
      "name": "python"
    }
  },
  "cells": [
    {
      "cell_type": "markdown",
      "metadata": {
        "id": "view-in-github",
        "colab_type": "text"
      },
      "source": [
        "<a href=\"https://colab.research.google.com/github/coassis/Formulario/blob/master/Dia_da__sorte_Deeep.ipynb\" target=\"_parent\"><img src=\"https://colab.research.google.com/assets/colab-badge.svg\" alt=\"Open In Colab\"/></a>"
      ]
    },
    {
      "cell_type": "code",
      "execution_count": 2,
      "metadata": {
        "id": "urx0nRt8XYYY",
        "colab": {
          "base_uri": "https://localhost:8080/"
        },
        "outputId": "eb656166-b10a-470b-9da4-730ff6415120"
      },
      "outputs": [
        {
          "output_type": "stream",
          "name": "stdout",
          "text": [
            "Cartela 1 (Outubro): [1, 2, 6, 10, 11, 22, 27]\n",
            "Cartela 2 (Maio): [6, 11, 16, 18, 19, 25, 27]\n",
            "Cartela 3 (Novembro): [4, 5, 6, 7, 12, 21, 22]\n",
            "Cartela 4 (Setembro): [12, 15, 22, 23, 24, 25, 31]\n",
            "Cartela 5 (Março): [3, 4, 5, 14, 21, 25, 28]\n",
            "Cartela 6 (Abril): [3, 8, 11, 15, 24, 25, 29]\n",
            "Cartela 7 (Dezembro): [5, 10, 11, 16, 19, 24, 29]\n",
            "Cartela 8 (Julho): [2, 3, 10, 15, 18, 21, 23]\n",
            "Cartela 9 (Fevereiro): [9, 12, 15, 21, 22, 26, 31]\n",
            "Cartela 10 (Janeiro): [5, 10, 19, 25, 26, 27, 28]\n",
            "Cartela 11 (Agosto): [5, 6, 12, 15, 22, 23, 24]\n",
            "Cartela 12 (Junho): [4, 5, 6, 10, 16, 18, 29]\n"
          ]
        }
      ],
      "source": [
        "import random\n",
        "\n",
        "# Lista dos meses do ano\n",
        "meses_do_ano = [\n",
        "    \"Janeiro\", \"Fevereiro\", \"Março\", \"Abril\", \"Maio\", \"Junho\",\n",
        "    \"Julho\", \"Agosto\", \"Setembro\", \"Outubro\", \"Novembro\", \"Dezembro\"\n",
        "]\n",
        "\n",
        "# Função para gerar uma cartela com 7 números únicos entre 1 e 31\n",
        "def gerar_cartela():\n",
        "    return sorted(random.sample(range(1, 32), 7))\n",
        "\n",
        "# Gerar 12 cartelas e associar a um mês do ano\n",
        "def gerar_cartelas_com_meses():\n",
        "    cartelas_com_meses = []\n",
        "    meses_escolhidos = random.sample(meses_do_ano, 12)  # Escolher 12 meses aleatoriamente (sem repetição)\n",
        "\n",
        "    for mes in meses_escolhidos:\n",
        "        cartela = gerar_cartela()  # Gerar uma cartela com 7 números\n",
        "        cartelas_com_meses.append((mes, cartela))  # Associar o mês à cartela\n",
        "\n",
        "    return cartelas_com_meses\n",
        "\n",
        "# Gerar as 12 cartelas com meses\n",
        "cartelas = gerar_cartelas_com_meses()\n",
        "\n",
        "# Exibir as cartelas com seus respectivos meses\n",
        "for i, (mes, cartela) in enumerate(cartelas, 1):\n",
        "    print(f\"Cartela {i} ({mes}): {cartela}\")"
      ]
    },
    {
      "cell_type": "code",
      "source": [],
      "metadata": {
        "id": "u-Bm3q9BzbAb"
      },
      "execution_count": 2,
      "outputs": []
    }
  ]
}