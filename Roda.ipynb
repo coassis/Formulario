{
  "nbformat": 4,
  "nbformat_minor": 0,
  "metadata": {
    "colab": {
      "provenance": [],
      "authorship_tag": "ABX9TyPCQGlM/X/hsIDe8h8Omf3s",
      "include_colab_link": true
    },
    "kernelspec": {
      "name": "python3",
      "display_name": "Python 3"
    },
    "language_info": {
      "name": "python"
    }
  },
  "cells": [
    {
      "cell_type": "markdown",
      "metadata": {
        "id": "view-in-github",
        "colab_type": "text"
      },
      "source": [
        "<a href=\"https://colab.research.google.com/github/coassis/Formulario/blob/master/Roda.ipynb\" target=\"_parent\"><img src=\"https://colab.research.google.com/assets/colab-badge.svg\" alt=\"Open In Colab\"/></a>"
      ]
    },
    {
      "cell_type": "code",
      "execution_count": 2,
      "metadata": {
        "colab": {
          "base_uri": "https://localhost:8080/"
        },
        "id": "MG13Jg7iKqgH",
        "outputId": "0d53f7b0-21fb-49eb-fb7a-60394129c324"
      },
      "outputs": [
        {
          "output_type": "stream",
          "name": "stdout",
          "text": [
            "Digite a palavra que você quer ver passando: VOVO\n",
            "                                        \n",
            "                                       V\n",
            "                                      VO\n",
            "                                     VOV\n",
            "                                    VOVO\n",
            "                                   VOVO \n",
            "                                  VOVO  \n",
            "                                 VOVO   \n",
            "                                VOVO    \n",
            "                               VOVO     \n",
            "                              VOVO      \n",
            "                             VOVO       \n",
            "                            VOVO        \n",
            "                           VOVO         \n",
            "                          VOVO          \n",
            "                         VOVO           \n",
            "                        VOVO            \n",
            "                       VOVO             \n",
            "                      VOVO              \n",
            "                     VOVO               \n",
            "                    VOVO                \n",
            "                   VOVO                 \n",
            "                  VOVO                  \n",
            "                 VOVO                   \n",
            "                VOVO                    \n",
            "               VOVO                     \n",
            "              VOVO                      \n",
            "             VOVO                       \n",
            "            VOVO                        \n",
            "           VOVO                         \n",
            "          VOVO                          \n",
            "         VOVO                           \n",
            "        VOVO                            \n",
            "       VOVO                             \n",
            "      VOVO                              \n",
            "     VOVO                               \n",
            "    VOVO                                \n",
            "   VOVO                                 \n",
            "  VOVO                                  \n",
            " VOVO                                   \n",
            "VOVO                                    \n",
            "OVO                                     \n",
            "VO                                      \n",
            "O                                       \n"
          ]
        }
      ],
      "source": [
        "import os\n",
        "import time\n",
        "\n",
        "def limpar_tela():\n",
        "    \"\"\"Limpa a tela do console.\"\"\"\n",
        "    # Para sistemas Unix (Linux, macOS)\n",
        "    if os.name == 'posix':\n",
        "        _ = os.system('clear')\n",
        "    # Para sistemas Windows\n",
        "    else:\n",
        "        _ = os.system('cls')\n",
        "\n",
        "def exibir_palavra_rolando(palavra, largura_tela=40, velocidade=0.1):\n",
        "    \"\"\"\n",
        "    Exibe uma palavra passando pela tela.\n",
        "    :param palavra: A palavra a ser exibida.\n",
        "    :param largura_tela: A largura do \"display\".\n",
        "    :param velocidade: O tempo de espera entre cada passo (em segundos).\n",
        "    \"\"\"\n",
        "    # Adiciona espaços para a palavra \"entrar\" na tela\n",
        "    palavra_com_espacos = ' ' * largura_tela + palavra + ' ' * largura_tela\n",
        "\n",
        "    for i in range(len(palavra_com_espacos) - largura_tela):\n",
        "        limpar_tela()\n",
        "        # Pega um pedaço da string para exibir\n",
        "        exibicao = palavra_com_espacos[i:i + largura_tela]\n",
        "        print(exibicao)\n",
        "        time.sleep(velocidade)\n",
        "\n",
        "if __name__ == '__main__':\n",
        "    palavra_do_usuario = input(\"Digite a palavra que você quer ver passando: \")\n",
        "    exibir_palavra_rolando(palavra_do_usuario)"
      ]
    }
  ]
}