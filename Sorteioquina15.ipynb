{
  "nbformat": 4,
  "nbformat_minor": 0,
  "metadata": {
    "colab": {
      "provenance": [],
      "authorship_tag": "ABX9TyODlYeiulWpuQXn2m2M/Oib",
      "include_colab_link": true
    },
    "kernelspec": {
      "name": "python3",
      "display_name": "Python 3"
    },
    "language_info": {
      "name": "python"
    }
  },
  "cells": [
    {
      "cell_type": "markdown",
      "metadata": {
        "id": "view-in-github",
        "colab_type": "text"
      },
      "source": [
        "<a href=\"https://colab.research.google.com/github/coassis/Formulario/blob/master/Sorteioquina15.ipynb\" target=\"_parent\"><img src=\"https://colab.research.google.com/assets/colab-badge.svg\" alt=\"Open In Colab\"/></a>"
      ]
    },
    {
      "cell_type": "code",
      "execution_count": 2,
      "metadata": {
        "id": "kTqNy5A5nCLC",
        "colab": {
          "base_uri": "https://localhost:8080/"
        },
        "outputId": "5eb67035-ff16-4e58-cdc9-c59440fc6961"
      },
      "outputs": [
        {
          "output_type": "stream",
          "name": "stdout",
          "text": [
            "Bloco 1: [6, 41, 49, 51, 52]\n",
            "Bloco 2: [28, 41, 51, 54, 80]\n",
            "Bloco 3: [8, 13, 37, 64, 71]\n",
            "Bloco 4: [17, 53, 64, 66, 77]\n",
            "Bloco 5: [9, 24, 25, 41, 80]\n",
            "Bloco 6: [26, 32, 47, 74, 78]\n",
            "Bloco 7: [9, 31, 45, 59, 79]\n",
            "Bloco 8: [1, 25, 38, 47, 56]\n",
            "Bloco 9: [10, 32, 60, 66, 68]\n",
            "Bloco 10: [6, 20, 27, 35, 67]\n",
            "Bloco 11: [4, 21, 65, 67, 75]\n",
            "Bloco 12: [23, 35, 42, 48, 62]\n",
            "Bloco 13: [4, 11, 26, 38, 61]\n",
            "Bloco 14: [12, 19, 59, 63, 79]\n",
            "Bloco 15: [8, 27, 43, 60, 75]\n",
            "Bloco 16: [3, 5, 13, 39, 58]\n",
            "Bloco 17: [6, 13, 53, 68, 70]\n",
            "Bloco 18: [24, 44, 47, 60, 77]\n",
            "Bloco 19: [2, 14, 50, 54, 71]\n",
            "Bloco 20: [34, 36, 49, 51, 61]\n",
            "Bloco 21: [11, 40, 69, 75, 78]\n",
            "Bloco 22: [9, 44, 46, 63, 77]\n",
            "Bloco 23: [26, 32, 39, 49, 73]\n",
            "Bloco 24: [35, 43, 45, 47, 59]\n",
            "Bloco 25: [27, 46, 56, 60, 65]\n",
            "Bloco 26: [16, 23, 45, 63, 72]\n",
            "Bloco 27: [14, 35, 50, 53, 61]\n",
            "Bloco 28: [32, 33, 49, 58, 61]\n",
            "Bloco 29: [8, 25, 46, 50, 76]\n",
            "Bloco 30: [2, 37, 73, 77, 80]\n",
            "Bloco 31: [3, 8, 16, 41, 57]\n",
            "Bloco 32: [15, 21, 22, 40, 66]\n",
            "Bloco 33: [18, 24, 36, 44, 49]\n",
            "Bloco 34: [7, 20, 40, 44, 61]\n",
            "Bloco 35: [10, 29, 50, 64, 71]\n",
            "Bloco 36: [27, 44, 60, 62, 78]\n",
            "Bloco 37: [6, 14, 24, 40, 46]\n",
            "Bloco 38: [9, 15, 24, 28, 46]\n",
            "Bloco 39: [12, 16, 43, 65, 80]\n",
            "Bloco 40: [13, 31, 41, 51, 57]\n",
            "Bloco 41: [6, 33, 52, 61, 73]\n",
            "Bloco 42: [8, 32, 58, 69, 75]\n",
            "Bloco 43: [28, 33, 45, 55, 77]\n",
            "Bloco 44: [6, 7, 16, 17, 58]\n",
            "Bloco 45: [24, 26, 52, 67, 77]\n",
            "Bloco 46: [4, 15, 41, 53, 62]\n",
            "Bloco 47: [16, 22, 52, 56, 78]\n",
            "Bloco 48: [21, 25, 28, 53, 59]\n"
          ]
        }
      ],
      "source": [
        "import numpy as np\n",
        "\n",
        "# Função para calcular a frequência baseada na equação fornecida\n",
        "def calcular_frequencia(x):\n",
        "    return -0.0029*x*x*x+0.4886*x*x-28.818*x+588.2\n",
        "\n",
        "# Função para gerar um conjunto de 5 números únicos\n",
        "def gerar_bloco():\n",
        "    numeros = []\n",
        "    while len(numeros) <5 :\n",
        "        # Escolhe um número entre 1 e 80\n",
        "        numero = np.random.randint(1, 81)\n",
        "        if numero not in numeros:\n",
        "            numeros.append(numero)\n",
        "    numeros.sort()\n",
        "    return numeros\n",
        "\n",
        "# Lista para armazenar os 15 blocos de números\n",
        "blocos = []\n",
        "\n",
        "# Gerar 48 blocos de números\n",
        "for _ in range(48):\n",
        "    bloco = gerar_bloco()\n",
        "    blocos.append(bloco)\n",
        "\n",
        "# Imprimir os 15 blocos de números gerados\n",
        "for i, bloco in enumerate(blocos, 1):\n",
        "    print(f\"Bloco {i}: {bloco}\")"
      ]
    }
  ]
}